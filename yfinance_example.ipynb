{
 "cells": [
  {
   "cell_type": "code",
   "execution_count": 1,
   "id": "initial_id",
   "metadata": {
    "collapsed": true,
    "ExecuteTime": {
     "end_time": "2023-11-18T01:24:14.568409236Z",
     "start_time": "2023-11-18T01:24:14.147091173Z"
    }
   },
   "outputs": [],
   "source": [
    "import yfinance as yf"
   ]
  },
  {
   "cell_type": "code",
   "execution_count": 2,
   "outputs": [],
   "source": [
    "ticker='AAPL'"
   ],
   "metadata": {
    "collapsed": false,
    "ExecuteTime": {
     "end_time": "2023-11-18T01:24:31.770344923Z",
     "start_time": "2023-11-18T01:24:31.633827147Z"
    }
   },
   "id": "7642845e721ed251"
  },
  {
   "cell_type": "code",
   "execution_count": 6,
   "outputs": [
    {
     "data": {
      "text/plain": "                    Datetime        Open        High         Low       Close  \\\n0  2023-11-17 09:30:00-05:00  373.609985  374.369995  372.399994  372.600006   \n1  2023-11-17 09:35:00-05:00  372.595001  372.600006  371.380005  371.750000   \n2  2023-11-17 09:40:00-05:00  371.739990  372.183411  371.149994  371.350006   \n3  2023-11-17 09:45:00-05:00  371.345001  371.890015  371.140015  371.469391   \n4  2023-11-17 09:50:00-05:00  371.470001  372.109985  371.269989  371.301605   \n..                       ...         ...         ...         ...         ...   \n73 2023-11-17 15:35:00-05:00  368.484985  369.899994  367.679993  367.720001   \n74 2023-11-17 15:40:00-05:00  367.730011  369.260010  367.000000  368.329987   \n75 2023-11-17 15:45:00-05:00  368.339996  368.850006  367.300110  367.964996   \n76 2023-11-17 15:50:00-05:00  368.019989  369.868286  368.000000  369.868286   \n77 2023-11-17 15:55:00-05:00  369.845001  370.369995  369.510010  369.920013   \n\n     Volume  Dividends  Stock Splits  \n0   3554650        0.0           0.0  \n1    757861        0.0           0.0  \n2    561514        0.0           0.0  \n3    458839        0.0           0.0  \n4    590404        0.0           0.0  \n..      ...        ...           ...  \n73  1366427        0.0           0.0  \n74  1448818        0.0           0.0  \n75  1255018        0.0           0.0  \n76  1677300        0.0           0.0  \n77  3331767        0.0           0.0  \n\n[78 rows x 8 columns]",
      "text/html": "<div>\n<style scoped>\n    .dataframe tbody tr th:only-of-type {\n        vertical-align: middle;\n    }\n\n    .dataframe tbody tr th {\n        vertical-align: top;\n    }\n\n    .dataframe thead th {\n        text-align: right;\n    }\n</style>\n<table border=\"1\" class=\"dataframe\">\n  <thead>\n    <tr style=\"text-align: right;\">\n      <th></th>\n      <th>Datetime</th>\n      <th>Open</th>\n      <th>High</th>\n      <th>Low</th>\n      <th>Close</th>\n      <th>Volume</th>\n      <th>Dividends</th>\n      <th>Stock Splits</th>\n    </tr>\n  </thead>\n  <tbody>\n    <tr>\n      <th>0</th>\n      <td>2023-11-17 09:30:00-05:00</td>\n      <td>373.609985</td>\n      <td>374.369995</td>\n      <td>372.399994</td>\n      <td>372.600006</td>\n      <td>3554650</td>\n      <td>0.0</td>\n      <td>0.0</td>\n    </tr>\n    <tr>\n      <th>1</th>\n      <td>2023-11-17 09:35:00-05:00</td>\n      <td>372.595001</td>\n      <td>372.600006</td>\n      <td>371.380005</td>\n      <td>371.750000</td>\n      <td>757861</td>\n      <td>0.0</td>\n      <td>0.0</td>\n    </tr>\n    <tr>\n      <th>2</th>\n      <td>2023-11-17 09:40:00-05:00</td>\n      <td>371.739990</td>\n      <td>372.183411</td>\n      <td>371.149994</td>\n      <td>371.350006</td>\n      <td>561514</td>\n      <td>0.0</td>\n      <td>0.0</td>\n    </tr>\n    <tr>\n      <th>3</th>\n      <td>2023-11-17 09:45:00-05:00</td>\n      <td>371.345001</td>\n      <td>371.890015</td>\n      <td>371.140015</td>\n      <td>371.469391</td>\n      <td>458839</td>\n      <td>0.0</td>\n      <td>0.0</td>\n    </tr>\n    <tr>\n      <th>4</th>\n      <td>2023-11-17 09:50:00-05:00</td>\n      <td>371.470001</td>\n      <td>372.109985</td>\n      <td>371.269989</td>\n      <td>371.301605</td>\n      <td>590404</td>\n      <td>0.0</td>\n      <td>0.0</td>\n    </tr>\n    <tr>\n      <th>...</th>\n      <td>...</td>\n      <td>...</td>\n      <td>...</td>\n      <td>...</td>\n      <td>...</td>\n      <td>...</td>\n      <td>...</td>\n      <td>...</td>\n    </tr>\n    <tr>\n      <th>73</th>\n      <td>2023-11-17 15:35:00-05:00</td>\n      <td>368.484985</td>\n      <td>369.899994</td>\n      <td>367.679993</td>\n      <td>367.720001</td>\n      <td>1366427</td>\n      <td>0.0</td>\n      <td>0.0</td>\n    </tr>\n    <tr>\n      <th>74</th>\n      <td>2023-11-17 15:40:00-05:00</td>\n      <td>367.730011</td>\n      <td>369.260010</td>\n      <td>367.000000</td>\n      <td>368.329987</td>\n      <td>1448818</td>\n      <td>0.0</td>\n      <td>0.0</td>\n    </tr>\n    <tr>\n      <th>75</th>\n      <td>2023-11-17 15:45:00-05:00</td>\n      <td>368.339996</td>\n      <td>368.850006</td>\n      <td>367.300110</td>\n      <td>367.964996</td>\n      <td>1255018</td>\n      <td>0.0</td>\n      <td>0.0</td>\n    </tr>\n    <tr>\n      <th>76</th>\n      <td>2023-11-17 15:50:00-05:00</td>\n      <td>368.019989</td>\n      <td>369.868286</td>\n      <td>368.000000</td>\n      <td>369.868286</td>\n      <td>1677300</td>\n      <td>0.0</td>\n      <td>0.0</td>\n    </tr>\n    <tr>\n      <th>77</th>\n      <td>2023-11-17 15:55:00-05:00</td>\n      <td>369.845001</td>\n      <td>370.369995</td>\n      <td>369.510010</td>\n      <td>369.920013</td>\n      <td>3331767</td>\n      <td>0.0</td>\n      <td>0.0</td>\n    </tr>\n  </tbody>\n</table>\n<p>78 rows × 8 columns</p>\n</div>"
     },
     "execution_count": 6,
     "metadata": {},
     "output_type": "execute_result"
    }
   ],
   "source": [
    "df = yf.Ticker(ticker).history(period='1d',interval='5m').reset_index()\n",
    "df"
   ],
   "metadata": {
    "collapsed": false,
    "ExecuteTime": {
     "end_time": "2023-11-18T01:44:03.464838552Z",
     "start_time": "2023-11-18T01:44:03.118342503Z"
    }
   },
   "id": "4eee3dba63d75a8b"
  },
  {
   "cell_type": "code",
   "execution_count": 7,
   "outputs": [
    {
     "name": "stdout",
     "output_type": "stream",
     "text": [
      "<class 'pandas.core.frame.DataFrame'>\n",
      "RangeIndex: 78 entries, 0 to 77\n",
      "Data columns (total 8 columns):\n",
      " #   Column        Non-Null Count  Dtype                           \n",
      "---  ------        --------------  -----                           \n",
      " 0   Datetime      78 non-null     datetime64[ns, America/New_York]\n",
      " 1   Open          78 non-null     float64                         \n",
      " 2   High          78 non-null     float64                         \n",
      " 3   Low           78 non-null     float64                         \n",
      " 4   Close         78 non-null     float64                         \n",
      " 5   Volume        78 non-null     int64                           \n",
      " 6   Dividends     78 non-null     float64                         \n",
      " 7   Stock Splits  78 non-null     float64                         \n",
      "dtypes: datetime64[ns, America/New_York](1), float64(6), int64(1)\n",
      "memory usage: 5.0 KB\n"
     ]
    }
   ],
   "source": [
    "df.info()"
   ],
   "metadata": {
    "collapsed": false,
    "ExecuteTime": {
     "end_time": "2023-11-18T01:44:04.778957191Z",
     "start_time": "2023-11-18T01:44:04.762189852Z"
    }
   },
   "id": "d68c061da6b6fb0a"
  },
  {
   "cell_type": "code",
   "execution_count": null,
   "outputs": [],
   "source": [],
   "metadata": {
    "collapsed": false
   },
   "id": "9f945b65e29d1cb1"
  }
 ],
 "metadata": {
  "kernelspec": {
   "display_name": "Python 3",
   "language": "python",
   "name": "python3"
  },
  "language_info": {
   "codemirror_mode": {
    "name": "ipython",
    "version": 2
   },
   "file_extension": ".py",
   "mimetype": "text/x-python",
   "name": "python",
   "nbconvert_exporter": "python",
   "pygments_lexer": "ipython2",
   "version": "2.7.6"
  }
 },
 "nbformat": 4,
 "nbformat_minor": 5
}
